{
  "nbformat": 4,
  "nbformat_minor": 0,
  "metadata": {
    "colab": {
      "name": "face_landmark_localization.ipynb",
      "provenance": [],
      "collapsed_sections": [],
      "toc_visible": true,
      "authorship_tag": "ABX9TyNAWIi/ghkzrniXT+IlM/SS",
      "include_colab_link": true
    },
    "kernelspec": {
      "name": "python3",
      "display_name": "Python 3"
    }
  },
  "cells": [
    {
      "cell_type": "markdown",
      "metadata": {
        "id": "view-in-github",
        "colab_type": "text"
      },
      "source": [
        "<a href=\"https://colab.research.google.com/github/alexandrufiruti/masterlastyear/blob/main/mlav/face_landmark_localization.ipynb\" target=\"_parent\"><img src=\"https://colab.research.google.com/assets/colab-badge.svg\" alt=\"Open In Colab\"/></a>"
      ]
    },
    {
      "cell_type": "markdown",
      "metadata": {
        "id": "5o954XesSIlc"
      },
      "source": [
        "## **Proiect MLAV** -  Face (Eye) Landmarks localization\n",
        "*   Baza de date: Caltech 10k Web Faces ([aici](http://www.vision.caltech.edu/Image_Datasets/Caltech_10K_WebFaces/))\n",
        "*   Arhitectura : ResNet-18 (detalii [aici](https://www.youtube.com/watch?v=**ZILIbUvp5lk**))\n",
        "\n"
      ]
    },
    {
      "cell_type": "markdown",
      "metadata": {
        "id": "eyh2qxaTTIiX"
      },
      "source": [
        "Accesare date (daca nu exista deja local):\n",
        "\n",
        "\n",
        "1.   Descarcare arhiva cu *wget*\n",
        "2.   Dezarhivare\n",
        "3.   Stergere arhiva dupa dezarhivare\n",
        "\n"
      ]
    },
    {
      "cell_type": "code",
      "metadata": {
        "id": "yhgrkzMCPkk6",
        "outputId": "20b39781-8a0c-4c1f-ed09-ad209cd2c503",
        "colab": {
          "base_uri": "https://localhost:8080/"
        }
      },
      "source": [
        "import os\n",
        "\n",
        "# descarcare imagini\n",
        "!rm -r *\n",
        "!wget http://www.ifp.illinois.edu/~vuongle2/helen/data/helen_1.zip\n",
        "!wget http://www.ifp.illinois.edu/~vuongle2/helen/data/helen_2.zip\n",
        "!wget http://www.ifp.illinois.edu/~vuongle2/helen/data/helen_3.zip\n",
        "!wget http://www.ifp.illinois.edu/~vuongle2/helen/data/helen_4.zip\n",
        "!wget http://www.ifp.illinois.edu/~vuongle2/helen/data/helen_5.zip\n",
        "!unzip '*.zip' 1>/dev/null\n",
        "!mkdir all_helen\n",
        "!mv helen_*/* all_helen/\n",
        "!rm -r helen_*\n",
        "!echo \"Numarul total de imagini (antrenare & testare):\"\n",
        "!ls all_helen | wc -l\n",
        "\n",
        "# descarcare adnotari\n",
        "!wget http://www.ifp.illinois.edu/~vuongle2/helen/data/annotation.zip\n",
        "!unzip 'annotation.zip' 1>/dev/null\n",
        "!rm -r annotation.zip\n",
        "!ls annotation | wc -l\n",
        "\n"
      ],
      "execution_count": 20,
      "outputs": [
        {
          "output_type": "stream",
          "text": [
            "--2020-11-02 19:37:33--  http://www.ifp.illinois.edu/~vuongle2/helen/data/helen_1.zip\n",
            "Resolving www.ifp.illinois.edu (www.ifp.illinois.edu)... 130.126.122.239\n",
            "Connecting to www.ifp.illinois.edu (www.ifp.illinois.edu)|130.126.122.239|:80... connected.\n",
            "HTTP request sent, awaiting response... 200 OK\n",
            "Length: 96876123 (92M) [application/zip]\n",
            "Saving to: ‘helen_1.zip’\n",
            "\n",
            "helen_1.zip         100%[===================>]  92.39M  30.0MB/s    in 3.1s    \n",
            "\n",
            "2020-11-02 19:37:36 (30.0 MB/s) - ‘helen_1.zip’ saved [96876123/96876123]\n",
            "\n",
            "--2020-11-02 19:37:36--  http://www.ifp.illinois.edu/~vuongle2/helen/data/helen_2.zip\n",
            "Resolving www.ifp.illinois.edu (www.ifp.illinois.edu)... 130.126.122.239\n",
            "Connecting to www.ifp.illinois.edu (www.ifp.illinois.edu)|130.126.122.239|:80... connected.\n",
            "HTTP request sent, awaiting response... 200 OK\n",
            "Length: 106113055 (101M) [application/zip]\n",
            "Saving to: ‘helen_2.zip’\n",
            "\n",
            "helen_2.zip         100%[===================>] 101.20M  32.6MB/s    in 3.3s    \n",
            "\n",
            "2020-11-02 19:37:39 (30.8 MB/s) - ‘helen_2.zip’ saved [106113055/106113055]\n",
            "\n",
            "--2020-11-02 19:37:39--  http://www.ifp.illinois.edu/~vuongle2/helen/data/helen_3.zip\n",
            "Resolving www.ifp.illinois.edu (www.ifp.illinois.edu)... 130.126.122.239\n",
            "Connecting to www.ifp.illinois.edu (www.ifp.illinois.edu)|130.126.122.239|:80... connected.\n",
            "HTTP request sent, awaiting response... 200 OK\n",
            "Length: 129614090 (124M) [application/zip]\n",
            "Saving to: ‘helen_3.zip’\n",
            "\n",
            "helen_3.zip         100%[===================>] 123.61M  39.2MB/s    in 3.5s    \n",
            "\n",
            "2020-11-02 19:37:43 (35.3 MB/s) - ‘helen_3.zip’ saved [129614090/129614090]\n",
            "\n",
            "--2020-11-02 19:37:43--  http://www.ifp.illinois.edu/~vuongle2/helen/data/helen_4.zip\n",
            "Resolving www.ifp.illinois.edu (www.ifp.illinois.edu)... 130.126.122.239\n",
            "Connecting to www.ifp.illinois.edu (www.ifp.illinois.edu)|130.126.122.239|:80... connected.\n",
            "HTTP request sent, awaiting response... 200 OK\n",
            "Length: 123830751 (118M) [application/zip]\n",
            "Saving to: ‘helen_4.zip’\n",
            "\n",
            "helen_4.zip         100%[===================>] 118.09M  37.6MB/s    in 3.8s    \n",
            "\n",
            "2020-11-02 19:37:47 (31.4 MB/s) - ‘helen_4.zip’ saved [123830751/123830751]\n",
            "\n",
            "--2020-11-02 19:37:47--  http://www.ifp.illinois.edu/~vuongle2/helen/data/helen_5.zip\n",
            "Resolving www.ifp.illinois.edu (www.ifp.illinois.edu)... 130.126.122.239\n",
            "Connecting to www.ifp.illinois.edu (www.ifp.illinois.edu)|130.126.122.239|:80... connected.\n",
            "HTTP request sent, awaiting response... 200 OK\n",
            "Length: 91751687 (88M) [application/zip]\n",
            "Saving to: ‘helen_5.zip’\n",
            "\n",
            "helen_5.zip         100%[===================>]  87.50M  29.6MB/s    in 3.0s    \n",
            "\n",
            "2020-11-02 19:37:50 (29.6 MB/s) - ‘helen_5.zip’ saved [91751687/91751687]\n",
            "\n",
            "\n",
            "5 archives were successfully processed.\n",
            "Numarul total de imagini (antrenare & testare):\n",
            "2330\n",
            "--2020-11-02 19:37:57--  http://www.ifp.illinois.edu/~vuongle2/helen/data/annotation.zip\n",
            "Resolving www.ifp.illinois.edu (www.ifp.illinois.edu)... 130.126.122.239\n",
            "Connecting to www.ifp.illinois.edu (www.ifp.illinois.edu)|130.126.122.239|:80... connected.\n",
            "HTTP request sent, awaiting response... 200 OK\n",
            "Length: 3396104 (3.2M) [application/zip]\n",
            "Saving to: ‘annotation.zip’\n",
            "\n",
            "annotation.zip      100%[===================>]   3.24M  2.19MB/s    in 1.5s    \n",
            "\n",
            "2020-11-02 19:37:59 (2.19 MB/s) - ‘annotation.zip’ saved [3396104/3396104]\n",
            "\n",
            "2330\n"
          ],
          "name": "stdout"
        }
      ]
    },
    {
      "cell_type": "code",
      "metadata": {
        "id": "OfpypXInaTz-"
      },
      "source": [
        "from skimage import io\n",
        "\n",
        "landmark_dict = dict() # dictionar {key=nume_fisier, value=lista_puncte_landmark}\n",
        "for filename in os.listdir('annotation'):\n",
        "  with open(\"annotation/\"+filename, 'r') as f:\n",
        "    imagename = f.readline().rstrip('\\n')\n",
        "    content = f.readlines()\n",
        "    points = []\n",
        "    for point in content:\n",
        "      temp = (point[:-1].split(\" , \"))\n",
        "      points.append([float(temp[0]), float(temp[1])])\n",
        "    landmark_dict[imagename] = points\n",
        "    \n",
        "\n",
        "images_dict = dict() # dictionar {key=nume_fisier, value=imaginea}\n",
        "for filename in os.listdir('all_helen'):\n",
        "  images_dict[filename[:-4]] = io.imread(\"all_helen/\"+filename)# nume fara extensia .jpg\n",
        "\n",
        "print(filename)\n",
        "print(filename[:-4])"
      ],
      "execution_count": null,
      "outputs": []
    },
    {
      "cell_type": "code",
      "metadata": {
        "id": "ZzLos3VPaXoR"
      },
      "source": [
        ""
      ],
      "execution_count": null,
      "outputs": []
    }
  ]
}